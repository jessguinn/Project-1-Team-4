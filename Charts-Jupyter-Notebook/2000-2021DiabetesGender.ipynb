{
 "cells": [
  {
   "cell_type": "code",
   "execution_count": 1,
   "id": "96aa3cc3",
   "metadata": {},
   "outputs": [],
   "source": [
    "import os\n",
    "os.chdir(\"/Users/makenzieeason/Desktop/Project-1-Team-4\")"
   ]
  },
  {
   "cell_type": "code",
   "execution_count": 1,
   "id": "c3059ab9",
   "metadata": {},
   "outputs": [],
   "source": [
    "import pandas as pd\n",
    "import seaborn as sns\n",
    "import matplotlib.pyplot as plt\n",
    "import numpy as np"
   ]
  },
  {
   "cell_type": "code",
   "execution_count": 2,
   "id": "3afe7c94",
   "metadata": {},
   "outputs": [],
   "source": [
    "df1 = pd.read_csv(\"/Users/makenzieeason/Desktop/2000DiabetesAtlasDataFemales.csv\")\n",
    "df2 = pd.read_csv(\"/Users/makenzieeason/Desktop/2000DiabetesAtlasDataMales.csv\")   \n",
    "df3 = pd.read_csv(\"/Users/makenzieeason/Desktop/2001DiabetesAtlasDataFemales.csv\")\n",
    "df4 = pd.read_csv(\"/Users/makenzieeason/Desktop/2001DiabetesAtlasDataMales.csv\")\n",
    "df5 = pd.read_csv(\"/Users/makenzieeason/Desktop/2002DiabetesAtlasDataFemales.csv\")\n",
    "df6 = pd.read_csv(\"/Users/makenzieeason/Desktop/2002DiabetesAtlasDataMales.csv\")\n",
    "df7 = pd.read_csv(\"/Users/makenzieeason/Desktop/2003DiabetesAtlasDataFemales.csv\")\n",
    "df8 = pd.read_csv(\"/Users/makenzieeason/Desktop/2003DiabetesAtlasDataMales.csv\")\n",
    "df9 = pd.read_csv(\"/Users/makenzieeason/Desktop/2004DiabetesAtlasDataFemales.csv\")\n",
    "df10 = pd.read_csv(\"/Users/makenzieeason/Desktop/2004DiabetesAtlasDataMales.csv\")\n",
    "df11 = pd.read_csv(\"/Users/makenzieeason/Desktop/2005DiabetesAtlasDataFemales.csv\")\n",
    "df12 = pd.read_csv(\"/Users/makenzieeason/Desktop/2005DiabetesAtlasDataMales.csv\")\n",
    "df13 = pd.read_csv(\"/Users/makenzieeason/Desktop/2006DiabetesAtlasDataFemales.csv\")\n",
    "df14 = pd.read_csv(\"/Users/makenzieeason/Desktop/2006DiabetesAtlasDataMales.csv\")\n",
    "df15 = pd.read_csv(\"/Users/makenzieeason/Desktop/2007DiabetesAtlasDataFemales.csv\")\n",
    "df16 = pd.read_csv(\"/Users/makenzieeason/Desktop/2007DiabetesAtlasDataMales.csv\")\n",
    "df17 = pd.read_csv(\"/Users/makenzieeason/Desktop/2008DiabetesAtlasDataFemales.csv\")\n",
    "df18 = pd.read_csv(\"/Users/makenzieeason/Desktop/2008DiabetesAtlasDataMales.csv\")\n",
    "df19 = pd.read_csv(\"/Users/makenzieeason/Desktop/2009DiabetesAtlasDataFemales.csv\")\n",
    "df20 = pd.read_csv(\"/Users/makenzieeason/Desktop/2009DiabetesAtlasDataMales.csv\")\n",
    "df21 = pd.read_csv(\"/Users/makenzieeason/Desktop/2010DiabetesAtlasDataFemales.csv\")\n",
    "df22 = pd.read_csv(\"/Users/makenzieeason/Desktop/2010DiabetesAtlasDataMales.csv\")\n",
    "df23 = pd.read_csv(\"/Users/makenzieeason/Desktop/2011DiabetesAtlasDataFemales.csv\")\n",
    "df24 = pd.read_csv(\"/Users/makenzieeason/Desktop/2011DiabetesAtlasDataMales.csv\")\n",
    "df25 = pd.read_csv(\"/Users/makenzieeason/Desktop/2012DiabetesAtlasDataFemales.csv\")\n",
    "df26 = pd.read_csv(\"/Users/makenzieeason/Desktop/2012DiabetesAtlasDataMales.csv\")\n",
    "df27 = pd.read_csv(\"/Users/makenzieeason/Desktop/2013DiabetesAtlasDataFemales.csv\")\n",
    "df28 = pd.read_csv(\"/Users/makenzieeason/Desktop/2013DiabetesAtlasDataMales.csv\")\n",
    "df29 = pd.read_csv(\"/Users/makenzieeason/Desktop/2014DiabetesAtlasDataFemales.csv\")\n",
    "df30 = pd.read_csv(\"/Users/makenzieeason/Desktop/2014DiabetesAtlasDataMales.csv\")\n",
    "df31 = pd.read_csv(\"/Users/makenzieeason/Desktop/2015DiabetesAtlasDataFemales.csv\")\n",
    "df32 = pd.read_csv(\"/Users/makenzieeason/Desktop/2015DiabetesAtlasDataMales.csv\")\n",
    "df33 = pd.read_csv(\"/Users/makenzieeason/Desktop/2016DiabetesAtlasDataFemales.csv\")\n",
    "df34 = pd.read_csv(\"/Users/makenzieeason/Desktop/2016DiabetesAtlasDataMales.csv\")\n",
    "df35 = pd.read_csv(\"/Users/makenzieeason/Desktop/2017DiabetesAtlasDataFemales.csv\")\n",
    "df36 = pd.read_csv(\"/Users/makenzieeason/Desktop/2017DiabetesAtlasDataMales.csv\")\n",
    "df37 = pd.read_csv(\"/Users/makenzieeason/Desktop/2018DiabetesAtlasDataFemales.csv\")\n",
    "df38 = pd.read_csv(\"/Users/makenzieeason/Desktop/2018DiabetesAtlasDataMales.csv\")\n",
    "df39 = pd.read_csv(\"/Users/makenzieeason/Desktop/2019DiabetesAtlasDataFemales.csv\")\n",
    "df40 = pd.read_csv(\"/Users/makenzieeason/Desktop/2019DiabetesAtlasDataMales.csv\")\n",
    "df41 = pd.read_csv(\"/Users/makenzieeason/Desktop/2020DiabetesAtlasDataFemales.csv\")\n",
    "df42 = pd.read_csv(\"/Users/makenzieeason/Desktop/2020DiabetesAtlasDataMales.csv\")\n",
    "df43 = pd.read_csv(\"/Users/makenzieeason/Desktop/2021DiabetesAtlasDataFemales.csv\")\n",
    "df44 = pd.read_csv(\"/Users/makenzieeason/Desktop/2021DiabetesAtlasDataMales.csv\")\n"
   ]
  },
  {
   "cell_type": "code",
   "execution_count": 3,
   "id": "0325f7e8",
   "metadata": {},
   "outputs": [
    {
     "name": "stdout",
     "output_type": "stream",
     "text": [
      "   Year  Gender             State Percentage             State Percentage  \\\n",
      "0  2000  Female  Median of States        5.7  Median of States        6.4   \n",
      "1  2000  Female           Alabama        6.9           Alabama        7.9   \n",
      "2  2000  Female            Alaska        4.5            Alaska          4   \n",
      "3  2000  Female           Arizona        5.6           Arizona        6.2   \n",
      "4  2000  Female          Arkansas        5.8          Arkansas        5.9   \n",
      "\n",
      "   Year  Gender             State Percentage  ...             State  \\\n",
      "0  2001  Female  Median of States        6.0  ...  Median of States   \n",
      "1  2001  Female           Alabama        8.3  ...           Alabama   \n",
      "2  2001  Female            Alaska        5.1  ...            Alaska   \n",
      "3  2001  Female           Arizona        4.7  ...           Arizona   \n",
      "4  2001  Female          Arkansas        6.6  ...          Arkansas   \n",
      "\n",
      "  Percentage  Year  Gender             State Percentage  Year  Gender  \\\n",
      "0       10.3  2021  Female  Median of States        8.9  2021    Male   \n",
      "1         14  2021  Female           Alabama       13.5  2021    Male   \n",
      "2        8.1  2021  Female            Alaska        7.3  2021    Male   \n",
      "3         11  2021  Female           Arizona        9.3  2021    Male   \n",
      "4       11.1  2021  Female          Arkansas       10.5  2021    Male   \n",
      "\n",
      "              State Percentage  \n",
      "0  Median of States       10.6  \n",
      "1           Alabama         13  \n",
      "2            Alaska        8.7  \n",
      "3           Arizona       10.1  \n",
      "4          Arkansas       11.3  \n",
      "\n",
      "[5 rows x 166 columns]\n"
     ]
    }
   ],
   "source": [
    "\n",
    "\n",
    "# List\n",
    "dfs = [df1, df2, df3, df4, df5, df6, df7, df8, df9, df10, df11, df12,\n",
    "       df13, df14, df15, df16, df17, df18, df19, df20, df21, df22, df23,\n",
    "       df24, df25, df26, df27, df28, df29, df30, df31, df32, df33, df34,\n",
    "       df35, df36, df37, df38, df39, df40, df41, df42, df43, df44]\n",
    "\n",
    "# Select 'Year', 'Gender', 'State', 'Percentage' columns from each dataframe\n",
    "selected_dfs = [df[['Year', 'Gender', 'State', 'Percentage']] if all(col in df.columns for col in ['Year', 'Gender']) else df[['State', 'Percentage']] for df in dfs]\n",
    "\n",
    "# Concatenate dataframes horizontally\n",
    "result_df = pd.concat(selected_dfs, axis=1)\n",
    "\n",
    "# Display the first few rows of the concatenated dataframe\n",
    "print(result_df.head())\n"
   ]
  },
  {
   "cell_type": "code",
   "execution_count": 8,
   "id": "abec3ae5",
   "metadata": {},
   "outputs": [
    {
     "name": "stdout",
     "output_type": "stream",
     "text": [
      "Data saved to /Users/makenzieeason/Desktop/output_data.xlsx\n"
     ]
    }
   ],
   "source": [
    "import os\n",
    "import pandas as pd\n",
    "\n",
    "# List of dataframes\n",
    "dfs = [df1, df2, df3, df4, df5, df6, df7, df8, df9, df10, df11, df12,\n",
    "       df13, df14, df15, df16, df17, df18, df19, df20, df21, df22, df23,\n",
    "       df24, df25, df26, df27, df28, df29, df30, df31, df32, df33, df34,\n",
    "       df35, df36, df37, df38, df39, df40, df41, df42, df43, df44]\n",
    "\n",
    "# Select 'Year', 'Gender', 'State', 'Percentage' columns from each dataframe\n",
    "selected_dfs = [df[['Year', 'Gender', 'State', 'Percentage']] if all(col in df.columns for col in ['Year', 'Gender']) else df[['State', 'Percentage']] for df in dfs]\n",
    "\n",
    "# Concatenate dataframes horizontally\n",
    "result_df = pd.concat(selected_dfs, axis=1)\n",
    "\n",
    "# Get the path to the desktop\n",
    "desktop_path = os.path.join(os.path.expanduser(\"~\"), \"Desktop\")\n",
    "\n",
    "# Save DataFrame to Excel on the desktop\n",
    "excel_file_path = os.path.join(desktop_path, 'output_data.xlsx')\n",
    "result_df.to_excel(excel_file_path, index=False)\n",
    "\n",
    "print(f'Data saved to {excel_file_path}')\n",
    "\n"
   ]
  },
  {
   "cell_type": "code",
   "execution_count": null,
   "id": "9b1abc62",
   "metadata": {},
   "outputs": [],
   "source": []
  }
 ],
 "metadata": {
  "kernelspec": {
   "display_name": "Python 3 (ipykernel)",
   "language": "python",
   "name": "python3"
  },
  "language_info": {
   "codemirror_mode": {
    "name": "ipython",
    "version": 3
   },
   "file_extension": ".py",
   "mimetype": "text/x-python",
   "name": "python",
   "nbconvert_exporter": "python",
   "pygments_lexer": "ipython3",
   "version": "3.9.13"
  }
 },
 "nbformat": 4,
 "nbformat_minor": 5
}
