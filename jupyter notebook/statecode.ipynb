{
 "cells": [
  {
   "cell_type": "code",
   "execution_count": 6,
   "id": "a73738da-a67f-468d-b53f-6f53eeccd026",
   "metadata": {},
   "outputs": [
    {
     "ename": "TypeError",
     "evalue": "'DataFrame' object is not callable",
     "output_type": "error",
     "traceback": [
      "\u001b[1;31m---------------------------------------------------------------------------\u001b[0m",
      "\u001b[1;31mTypeError\u001b[0m                                 Traceback (most recent call last)",
      "Cell \u001b[1;32mIn[6], line 34\u001b[0m\n\u001b[0;32m     31\u001b[0m merged_df\u001b[38;5;241m.\u001b[39mto_csv(\u001b[38;5;124m'\u001b[39m\u001b[38;5;124mmerged_data.csv\u001b[39m\u001b[38;5;124m'\u001b[39m, index\u001b[38;5;241m=\u001b[39m\u001b[38;5;28;01mFalse\u001b[39;00m)\n\u001b[0;32m     33\u001b[0m \u001b[38;5;66;03m# Print the merged DataFrame\u001b[39;00m\n\u001b[1;32m---> 34\u001b[0m merged_df()\n",
      "\u001b[1;31mTypeError\u001b[0m: 'DataFrame' object is not callable"
     ]
    }
   ],
   "source": [
    "import matplotlib.pyplot as plt\n",
    "import pandas as pd\n",
    "\n",
    "# Load datasets\n",
    "df_age_18 = pd.read_csv('age_18.csv', skiprows=2, usecols=['Year', 'State', 'Percentage'])\n",
    "df_age_45 = pd.read_csv('age_45.csv', skiprows=2, usecols=['Year', 'State', 'Percentage'])\n",
    "df_age_65 = pd.read_csv('age_65.csv', skiprows=2, usecols=['Year', 'State', 'Percentage'])\n",
    "df_age_75 = pd.read_csv('age_75.csv', skiprows=2, usecols=['Year', 'State', 'Percentage'])\n",
    "\n",
    "df_age_45['Year'] = pd.to_numeric(df_age_45['Year'], errors='coerce')\n",
    "df_age_75['Year'] = pd.to_numeric(df_age_75['Year'], errors='coerce')\n",
    "df_age_65['Year'] = pd.to_numeric(df_age_65['Year'], errors='coerce')\n",
    "df_age_18['Year'] = pd.to_numeric(df_age_18['Year'], errors='coerce')\n",
    "\n",
    "df_age_18['Percentage'] = pd.to_numeric(df_age_18['Percentage'], errors='coerce')\n",
    "df_age_45['Percentage'] = pd.to_numeric(df_age_45['Percentage'], errors='coerce')\n",
    "df_age_65['Percentage'] = pd.to_numeric(df_age_65['Percentage'], errors='coerce')\n",
    "df_age_75['Percentage'] = pd.to_numeric(df_age_75['Percentage'], errors='coerce')\n",
    "\n",
    "# Rename the percentage columns\n",
    "df_age_18 = df_age_18.rename(columns={'Percentage': '18-44 percentage'})\n",
    "df_age_45 = df_age_45.rename(columns={'Percentage': '45-64 percentage'})\n",
    "df_age_65 = df_age_65.rename(columns={'Percentage': '65-74 percentage'})\n",
    "df_age_75 = df_age_75.rename(columns={'Percentage': '75+ percentage'})\n",
    "\n",
    "# Merge DataFrames based on 'Year' and 'State'\n",
    "merged_df = pd.merge(df_age_18, df_age_45, on=['Year', 'State'])\n",
    "merged_df = pd.merge(merged_df, df_age_65, on=['Year', 'State'])\n",
    "merged_df = pd.merge(merged_df, df_age_75, on=['Year', 'State'])\n",
    "\n",
    "merged_df.to_csv('merged_data.csv', index=False)\n",
    "\n"
   ]
  },
  {
   "cell_type": "code",
   "execution_count": null,
   "id": "d1b73693-fe85-4af7-a9b4-3d283644481d",
   "metadata": {},
   "outputs": [],
   "source": [
    "import matplotlib.pyplot as plt\n",
    "import pandas as pd\n",
    "\n",
    "# Load datasets\n",
    "df_age_18 = pd.read_csv('age_18.csv', skiprows=2)\n",
    "df_age_45 = pd.read_csv('age_45.csv', skiprows=2)\n",
    "df_age_65 = pd.read_csv('age_65.csv', skiprows=2)\n",
    "df_age_75 = pd.read_csv('age_75.csv', skiprows=2)\n",
    "\n",
    "df_age_45['Year'] = pd.to_numeric(df_age_45['Year'], errors='coerce')\n",
    "df_age_75['Year'] = pd.to_numeric(df_age_75['Year'], errors='coerce')\n",
    "df_age_65['Year'] = pd.to_numeric(df_age_65['Year'], errors='coerce')\n",
    "df_age_18['Year'] = pd.to_numeric(df_age_18['Year'], errors='coerce')\n",
    "\n",
    "df_age_18['Percentage'] = pd.to_numeric(df_age_18['Percentage'], errors='coerce')\n",
    "df_age_45['Percentage'] = pd.to_numeric(df_age_45['Percentage'], errors='coerce')\n",
    "df_age_65['Percentage'] = pd.to_numeric(df_age_65['Percentage'], errors='coerce')\n",
    "df_age_75['Percentage'] = pd.to_numeric(df_age_75['Percentage'], errors='coerce')\n",
    "\n",
    "df_age_18['Age'] = '18-44'\n",
    "df_age_45['Age'] = '45-64'\n",
    "df_age_65['Age'] = '65-74'\n",
    "df_age_75['Age'] = '75+'\n",
    "\n",
    "df_age_18 = df_age_18.drop(columns=['Lower Limit'])\n",
    "df_age_45 = df_age_45.drop(columns=['Lower Limit'])\n",
    "df_age_65 = df_age_65.drop(columns=['Lower Limit'])\n",
    "df_age_75 = df_age_75.drop(columns=['Lower Limit'])\n",
    "\n",
    "# Merge DataFrames based on 'Year' and 'State'\n",
    "merged_df = pd.merge(df_age_18, df_age_45, on=['Year', 'State'])\n",
    "merged_df = pd.merge(merged_df, df_age_65, on=['Year', 'State'])\n",
    "merged_df = pd.merge(merged_df, df_age_75, on=['Year', 'State'])\n",
    "\n",
    "# Drop duplicate columns\n",
    "merged_df = merged_df.drop(columns=['Age_x', 'Upper Limit_x', 'Lower Limit_x'])\n",
    "\n",
    "# Print the merged DataFrame\n",
    "print(merged_df)"
   ]
  },
  {
   "cell_type": "code",
   "execution_count": null,
   "id": "b239f8d6-fc96-470f-951c-d3c81f8238d4",
   "metadata": {},
   "outputs": [],
   "source": []
  }
 ],
 "metadata": {
  "kernelspec": {
   "display_name": "Python 3 (ipykernel)",
   "language": "python",
   "name": "python3"
  },
  "language_info": {
   "codemirror_mode": {
    "name": "ipython",
    "version": 3
   },
   "file_extension": ".py",
   "mimetype": "text/x-python",
   "name": "python",
   "nbconvert_exporter": "python",
   "pygments_lexer": "ipython3",
   "version": "3.10.13"
  }
 },
 "nbformat": 4,
 "nbformat_minor": 5
}
