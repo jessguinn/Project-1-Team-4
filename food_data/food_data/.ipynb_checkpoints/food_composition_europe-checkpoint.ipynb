{
 "cells": [
  {
   "cell_type": "code",
   "execution_count": null,
   "id": "61ba8f32-1e76-4a3a-b366-546f31341cc8",
   "metadata": {},
   "outputs": [],
   "source": [
    "# Dependencies and Setup\n",
    "import matplotlib.pyplot as plt\n",
    "import pandas as pd\n",
    "import scipy.stats as st\n",
    "\n",
    "# Study data files\n",
    "calories_money_path = \"Resources/coefficient-of-variation-cv-in-per-capita-caloric-intake.csv\"\n",
    "meat_kilos_path = \"Resources/daily-meat-consumption-per-person.csv\"\n",
    "calories_supply_path = \"Resources/daily-per-capita-caloric-supply.csv\"\n",
    "fat_money_path = \"Resources/daily-per-capita-fat-supply-vs-gdp-per-capita.csv\"\n",
    "fat_path = \"Resources/daily-per-capita-fat-supply.csv\"\n",
    "protein_money_path = \"Resources/daily-per-capita-protein-supply-vs-gdp-per-capita.csv\"\n",
    "protein_path = \"Resources/daily-per-capita-protein-supply.csv\"\n",
    "calories_money_path = \"Resources/daily-per-capita-supply-of-calories-vs-gdp-per-capita.csv\"\n",
    "protein_source_path = \"Resources/daily-protein-supply-from-animal-and-plant-based-foods.csv\"\n",
    "calories_path = \"Resources/global-food.csv\"\n",
    "min_calories_path = \"Resources/minimum-requirement-calories.csv\"\n",
    "insecurity_path = \"Resources/prevalence-of-undernourishment-vs-daily-supply-of-calories.csv\"\n",
    "# Read the data\n",
    "calories_data = pd.read_csv(calories_path)\n",
    "min_calories = pd.read_csv(min_calories_path)\n",
    "fat_data = pd.read_csv(fat_path)\n",
    "protein_source = pd.read_csv(protein_source_path)\n",
    "food_insecurity = pd.read_csv(insecurity_path)\n",
    "meat_kilos= pd.read_csv(meat_kilos_path)\n",
    "\n",
    "#remove 'code' column to facilitate merge\n",
    "\n",
    "food_insecurity = food_insecurity.drop(columns=['Code'])\n",
    "protein_source = protein_source.drop(columns=['Code'])\n",
    "fat_data = fat_data.drop(columns=['Code'])\n",
    "min_calories = min_calories.drop(columns=['Code'])\n",
    "meat_kilos = meat_kilos.drop(columns=['Code'])\n",
    "\n",
    "# Assuming 'country' is the common column, remame to merge\n",
    "\n",
    "\n",
    "food_insecurity = food_insecurity.rename(columns={'Entity': 'Country'})\n",
    "protein_source = protein_source.rename(columns={'Entity': 'Country'})\n",
    "fat_data = fat_data.rename(columns={'Entity': 'Country'})\n",
    "min_calories = min_calories.rename(columns={'Entity': 'Country'})\n",
    "calories_data = calories_data.rename(columns={'Entity': 'Country'})\n",
    "meat_kilos = meat_kilos.rename(columns={'Entity': 'Country'})\n",
    "\n",
    "# Combine the data into a single DataFrame\n",
    "food_combined1 = pd.merge(food_insecurity, protein_source, on=['Country', 'Year'], how= 'left', suffixes=('_fi', '_ps'))\n",
    "food_combined2 = pd.merge(min_calories, calories_data, on=['Country', 'Year'], how= 'left', suffixes=('_mi', '_cd'))\n",
    "food_combined3 = pd.merge(fat_data, food_combined1, on=['Country', 'Year'], how='left', suffixes=('_fd', ''))\n",
    "food_combined4 = pd.merge(food_combined2, meat_kilos, on=['Country', 'Year'], how= 'left')\n",
    "food_combined = pd.merge(food_combined3, food_combined4, on=['Country', 'Year'], how='left')\n",
    "# Display the data table for preview\n",
    "food_combined"
   ]
  },
  {
   "cell_type": "code",
   "execution_count": null,
   "id": "76da42d9-62f3-460c-9f34-5ff1c1f16c0d",
   "metadata": {},
   "outputs": [],
   "source": [
    "#apply filters\n",
    "food_combined_filter1 = [\n",
    "    'Country', \n",
    "    'Year',  \n",
    "    '2.1.1 Prevalence of undernourishment | 00000000024000 || Value | 006121 || Percent', \n",
    "    'Minimum dietary energy requirement  (kcal/cap/day) | 00021056 || Value | 006128 || kcal/capita/day', \n",
    "    'Food supply (kcal per capita per day)', \n",
    "    'Total | 00002901 || Food available for consumption | 0684pc || grams of fat per day per capita', \n",
    "    'Food supply (Protein g per capita per day)', \n",
    "    'Animal Products | 00002941 || Food available for consumption | 0674pc || grams of protein per day per capita', \n",
    "    'Vegetal Products | 00002903 || Food available for consumption | 0674pc || grams of protein per day per capita', \n",
    "    'Meat, total | 00002943 || Food available for consumption | 0645pc || kilograms per year per capita'\n",
    "]\n",
    "food_filtered1= food_combined[food_combined_filter1]\n",
    "year_filter= food_filtered1[(food_filtered1['Year'] >= 2015) & (food_filtered1['Year'] <= 2020)]\n",
    "year_filter\n",
    "euandus_nations= ['United States', 'Russia', 'Germany', 'United Kingdom', 'France', 'Italy', 'Spain', 'Poland', 'Ukraine', 'Romania', 'Netherlands', 'Belgium', 'Sweden', 'Czech Republic', 'Czechia', 'Czechoslovakia', 'Greece', 'Portugal', 'Hungary', 'Belarus', 'Austria', 'Switzerland', 'Serbia', 'Bulgaria', 'Denmark', 'Slovakia', 'Finland', 'Croatia', 'Moldova', 'Norway', 'Ireland', 'Bosnia and Herzegovina', 'Albania', 'Lithuania', 'Slovenia', 'North Macedonia', 'Latvia', 'Estonia', 'Luxembourg', 'Montenegro', 'Malta', 'Iceland', 'Andorra', 'Lichtenstein', 'Monaco', 'San Marino', 'Holy See']\n",
    "country_filter= year_filter[year_filter['Country'].isin(euandus_nations)]\n",
    "country_filter"
   ]
  },
  {
   "cell_type": "code",
   "execution_count": null,
   "id": "68a9559d-ef7f-47d3-b820-17e80e94573e",
   "metadata": {},
   "outputs": [],
   "source": [
    "#rename for readability\n",
    "country_filter = country_filter.rename(columns={\n",
    "    'Total | 00002901 || Food available for consumption | 0684pc || grams of fat per day per capita': 'Fat (g) per Capita per day',\n",
    "    '2.1.1 Prevalence of undernourishment | 00000000024000 || Value | 006121 || Percent': 'Undernourishment Percentage',\n",
    "    'Total | 00002901 || Food available for consumption | 0664pc || kilocalories per day per capita': 'kCal per Capita per Day',\n",
    "    'Animal Products | 00002941 || Food available for consumption | 0674pc || grams of protein per day per capita': 'Animal Protein(g) supply per Capita per day',\n",
    "    'Meat, total | 00002943 || Food available for consumption | 0645pc || kilograms per year per capita': 'Meat (kg) supply per Capita per Year',\n",
    "    'Minimum dietary energy requirement  (kcal/cap/day) | 00021056 || Value | 006128 || kcal/capita/day': 'Minimum kCal per day per capita',\n",
    "    'Vegetal Products | 00002903 || Food available for consumption | 0674pc || grams of protein per day per capita':'Plant Protein(g) supply per Capita per day'\n",
    "})\n",
    "country_filter"
   ]
  },
  {
   "cell_type": "code",
   "execution_count": null,
   "id": "e119ab26-17da-4433-a174-10448a3ca807",
   "metadata": {},
   "outputs": [],
   "source": [
    "# Step 1: Group by 'Country'\n",
    "grouped_nations = country_filter.groupby('Country')\n",
    "\n",
    "# Step 2 & 3: Calculate the differences and format the year range\n",
    "def calculate_difference(group):\n",
    "    # Find the max and min years\n",
    "    max_year = group['Year'].max()\n",
    "    min_year = group['Year'].min()\n",
    "    \n",
    "    # Create a Series for the year range\n",
    "    year_range = pd.Series(f\"{min_year}-{max_year}\", index=['Years'])\n",
    "\n",
    "    # Calculate the difference for other columns\n",
    "    max_year_row = group[group['Year'] == max_year]\n",
    "    min_year_row = group[group['Year'] == min_year]\n",
    "\n",
    "    # We exclude 'Year' from difference calculation\n",
    "    difference = max_year_row.drop(columns=['Year']).iloc[0] - min_year_row.drop(columns=['Year']).iloc[0]\n",
    "\n",
    "    # Combine year range and differences\n",
    "    return pd.concat([year_range, difference])\n",
    "\n",
    "# Applying the function to each group\n",
    "change_df = grouped_nations.apply(calculate_difference)\n",
    "\n",
    "# Step 4: Rename columns\n",
    "for col in change_df.columns:\n",
    "    if col != 'Years':\n",
    "        change_df.rename(columns={col: 'Change in ' + col}, inplace=True)\n",
    "\n",
    "# Resetting index\n",
    "change_df.reset_index(inplace=True)\n",
    "\n",
    "# The result is in change_df\n",
    "change_df"
   ]
  },
  {
   "cell_type": "raw",
   "id": "b5c4d422-67aa-4bfd-bb84-a59988ab68f9",
   "metadata": {},
   "source": [
    "#format for following cells, orders column by value (esc+y to make functional)\n",
    "column_name = \"Change in Undernourishment Percentage\"\n",
    "change_ordered = change_df[['Country', 'Years', column_name]].copy()\n",
    "change_ordered.sort_values(by=column_name, ascending=False, inplace=True)\n",
    "change_ordered"
   ]
  },
  {
   "cell_type": "raw",
   "id": "a0327d7b-d094-4524-8c26-76ac64a043c0",
   "metadata": {},
   "source": [
    "insecurity_df = change_df[['Country', 'Years', 'Change in Undernourishment Percentage']].copy()\n",
    "insecurity_df.sort_values(by='Change in Undernourishment Percentage', ascending=False, inplace=True)\n",
    "insecurity_df"
   ]
  },
  {
   "cell_type": "raw",
   "id": "8d42aae7-c48a-4ef2-aad7-0d040eeac7f8",
   "metadata": {},
   "source": [
    "minimum_df = change_df[['Country', 'Years', 'Change in Minimum kCal per day per capita']].copy()\n",
    "minimum_df.sort_values(by='Change in Minimum kCal per day per capita', ascending=False, inplace=True)\n",
    "minimum_df"
   ]
  },
  {
   "cell_type": "raw",
   "id": "ed897cba-f42f-47d0-8ee7-9b3d057d3d3e",
   "metadata": {},
   "source": [
    "kcalpday_df = change_df[['Country', 'Years', 'Change in Food supply (kcal per capita per day)']].copy()\n",
    "kcalpday_df.sort_values(by='Change in Food supply (kcal per capita per day)', ascending=False, inplace=True)\n",
    "kcalpday_df"
   ]
  },
  {
   "cell_type": "raw",
   "id": "d3407869-5e8d-45c0-8c0e-0c4ed716e99f",
   "metadata": {},
   "source": [
    "fatpday_df = change_df[['Country', 'Years', 'Change in Fat (g) per Capita per day']].copy()\n",
    "fatpday_df.sort_values(by='Change in Fat (g) per Capita per day', ascending=False, inplace=True)\n",
    "fatpday_df"
   ]
  },
  {
   "cell_type": "raw",
   "id": "eb77667d-f2e5-4b7a-9fd1-e8bf30e09e86",
   "metadata": {},
   "source": [
    "proteinpd_df = change_df[['Country', 'Years', 'Change in Food supply (Protein g per capita per day)']].copy()\n",
    "proteinpd_df.sort_values(by='Change in Food supply (Protein g per capita per day)', ascending=False, inplace=True)\n",
    "proteinpd_df"
   ]
  },
  {
   "cell_type": "raw",
   "id": "10744de7-53c6-49d1-86dd-df917ef4927b",
   "metadata": {},
   "source": [
    "animalproteinpd_df = change_df[['Country', 'Years', 'Change in Animal Protein(g) supply per Capita per day']].copy()\n",
    "animalproteinpd_df.sort_values(by='Change in Animal Protein(g) supply per Capita per day', ascending=False, inplace=True)\n",
    "animalproteinpd_df"
   ]
  },
  {
   "cell_type": "raw",
   "id": "ddf50934-fd66-4729-82c8-676a3183c643",
   "metadata": {},
   "source": [
    "plantprotein_df = change_df[['Country', 'Years', 'Change in Plant Protein(g) supply per Capita per day']].copy()\n",
    "plantprotein_df.sort_values(by='Change in Plant Protein(g) supply per Capita per day', ascending=False, inplace=True)\n",
    "plantprotein_df"
   ]
  },
  {
   "cell_type": "raw",
   "id": "8472470c-c485-4c1b-b854-2022a412c246",
   "metadata": {},
   "source": [
    "meat_df = change_df[['Country', 'Years', 'Change in Meat (kg) supply per Capita per Year']].copy()\n",
    "meat_df.sort_values(by='Change in Meat (kg) supply per Capita per Year', ascending=False, inplace=True)\n",
    "meat_df"
   ]
  },
  {
   "cell_type": "code",
   "execution_count": null,
   "id": "bcb80c56-755a-4236-be5e-cb991bd9dbf2",
   "metadata": {},
   "outputs": [],
   "source": [
    "#pie chart generator for dietary macronutrient makeup visualization\n",
    "# Add new columns\n",
    "country_filter['Fat kCal per day'] = country_filter['Fat (g) per Capita per day'] * 9\n",
    "country_filter['Animal Protein kCal per day'] = country_filter['Animal Protein(g) supply per Capita per day'] * 4\n",
    "country_filter['Plant Protein kCal per day'] = country_filter['Plant Protein(g) supply per Capita per day'] * 4\n",
    "\n",
    "pie_country = 'Sweden'\n",
    "\n",
    "# Filter for the specific country and year\n",
    "# Replace 'YourCountry' with the country of your choice\n",
    "selected_country_data = country_filter[(country_filter['Country'] == pie_country) & (country_filter['Year'] == 2020)]\n",
    "\n",
    "# If there are multiple rows for the country and year, you might need to aggregate them\n",
    "# For simplicity, assuming there's only one row per country per year\n",
    "if not selected_country_data.empty:\n",
    "    selected_row = selected_country_data.iloc[0]\n",
    "\n",
    "    # Prepare data for the pie chart\n",
    "    values = [\n",
    "        selected_row['Fat kCal per day'],\n",
    "        selected_row['Animal Protein kCal per day'],\n",
    "        selected_row['Plant Protein kCal per day'],\n",
    "        selected_row['Food supply (kcal per capita per day)'] - (selected_row['Fat kCal per day'] + selected_row['Animal Protein kCal per day'] + selected_row['Plant Protein kCal per day'])\n",
    "    ]\n",
    "    labels = ['Fat kCal per day', 'Animal Protein kCal per day', 'Plant Protein kCal per day', 'Other kCal (presumed carbs) per day']\n",
    "\n",
    "    # Plotting the pie chart\n",
    "    colors = ['gold', 'lightcoral', 'lightskyblue', 'yellowgreen']\n",
    "    plt.figure(figsize=(10, 7))\n",
    "    plt.pie(values, labels=labels, colors=colors, autopct='%1.1f%%', startangle=140)\n",
    "    plt.title(f'Caloric Composition in {selected_row[\"Country\"]} for 2020')\n",
    "    plt.show()\n",
    "else:\n",
    "    print(f\"No data available for the selected country and year.\")\n"
   ]
  },
  {
   "cell_type": "code",
   "execution_count": null,
   "id": "08249f4c-9c0f-410c-97b3-6fadcf813584",
   "metadata": {},
   "outputs": [],
   "source": []
  }
 ],
 "metadata": {
  "kernelspec": {
   "display_name": "Python 3 (ipykernel)",
   "language": "python",
   "name": "python3"
  },
  "language_info": {
   "codemirror_mode": {
    "name": "ipython",
    "version": 3
   },
   "file_extension": ".py",
   "mimetype": "text/x-python",
   "name": "python",
   "nbconvert_exporter": "python",
   "pygments_lexer": "ipython3",
   "version": "3.11.5"
  }
 },
 "nbformat": 4,
 "nbformat_minor": 5
}
